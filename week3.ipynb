{
 "cells": [
  {
   "cell_type": "code",
   "execution_count": 1,
   "metadata": {},
   "outputs": [],
   "source": [
    "def read_list_of_numbers(filepath):\n",
    "    with open(filepath, \"r\") as f:\n",
    "        lines = f.readlines()\n",
    "    return [int(l) for l in lines]"
   ]
  },
  {
   "cell_type": "code",
   "execution_count": 42,
   "metadata": {},
   "outputs": [
    {
     "name": "stdout",
     "output_type": "stream",
     "text": [
      "IntegerArray.txt             integer_multiplication.ipynb\r\n",
      "QuickSort.txt                \u001b[1m\u001b[36mstanford-algs\u001b[m\u001b[m\r\n",
      "README.md                    week2.ipynb\r\n",
      "\u001b[1m\u001b[36mcourse1\u001b[m\u001b[m                      week3.ipynb\r\n"
     ]
    }
   ],
   "source": []
  },
  {
   "cell_type": "code",
   "execution_count": 143,
   "metadata": {},
   "outputs": [],
   "source": [
    "data_dir = \"stanford-algs/testCases/course1/assignment3Quicksort\"\n",
    "fname = \"dgrcode_01_5.txt\"\n",
    "input_filepath = data_dir + \"/input_\" + fname"
   ]
  },
  {
   "cell_type": "code",
   "execution_count": 144,
   "metadata": {},
   "outputs": [
    {
     "data": {
      "text/plain": [
       "[3, 2, 1, 4, 5]"
      ]
     },
     "execution_count": 144,
     "metadata": {},
     "output_type": "execute_result"
    }
   ],
   "source": [
    "array = read_list_of_numbers(input_filepath)\n",
    "array"
   ]
  },
  {
   "cell_type": "code",
   "execution_count": 83,
   "metadata": {},
   "outputs": [],
   "source": [
    "#simple_test_array = [3, 8, 2, 5, 1, 4, 7, 6]"
   ]
  },
  {
   "cell_type": "code",
   "execution_count": 126,
   "metadata": {},
   "outputs": [],
   "source": [
    "def choose_pivot(A, l, r, mode=\"first\"):\n",
    "    if mode == \"first\":\n",
    "        return l\n",
    "    elif mode == \"last\":\n",
    "        return r\n",
    "    elif mode == \"median-of-three\":\n",
    "        m = r // 2\n",
    "        mx = max(A[l], A[m], A[r])\n",
    "        mi = min(A[l], A[m], A[r])\n",
    "        for i in [l, m, r]:\n",
    "            if mi < A[i] < mx:\n",
    "                return i\n",
    "        return i\n",
    "    else:\n",
    "        raise NotImplementedError"
   ]
  },
  {
   "cell_type": "code",
   "execution_count": 127,
   "metadata": {},
   "outputs": [
    {
     "data": {
      "text/plain": [
       "2"
      ]
     },
     "execution_count": 127,
     "metadata": {},
     "output_type": "execute_result"
    }
   ],
   "source": [
    "choose_pivot([8, 2, 4, 5, 7, 1], 0, 5, mode=\"median-of-three\")"
   ]
  },
  {
   "cell_type": "code",
   "execution_count": 128,
   "metadata": {},
   "outputs": [],
   "source": [
    "def partition(A, l, r):\n",
    "    #print(A)\n",
    "    p = A[l]\n",
    "    i = l + 1\n",
    "    for j in range(l+1, r + 1):\n",
    "        if A[j] < p:\n",
    "            A[j], A[i] = A[i], A[j]\n",
    "            i += 1\n",
    "    A[l], A[i - 1] = A[i - 1], A[l]\n",
    "    #print(A)\n",
    "    return i - 1"
   ]
  },
  {
   "cell_type": "code",
   "execution_count": 129,
   "metadata": {},
   "outputs": [
    {
     "name": "stdout",
     "output_type": "stream",
     "text": [
      "[3, 8, 2, 5, 1, 4, 7, 6]\n"
     ]
    },
    {
     "data": {
      "text/plain": [
       "[3, 2, 5, 1, 4, 6, 7, 8]"
      ]
     },
     "execution_count": 129,
     "metadata": {},
     "output_type": "execute_result"
    }
   ],
   "source": [
    "arr = simple_test_array[:]\n",
    "pivot = 7\n",
    "left = 0\n",
    "right = len(arr) - 1\n",
    "print(arr)\n",
    "arr[left], arr[pivot] = arr[pivot], arr[left]\n",
    "#print(arr)\n",
    "partition(arr, left, right)\n",
    "arr"
   ]
  },
  {
   "cell_type": "code",
   "execution_count": 130,
   "metadata": {},
   "outputs": [],
   "source": [
    "class Counter:\n",
    "    def __init__(self, v0=0):\n",
    "        self._count = v0\n",
    "        \n",
    "    def update(self, val=1):\n",
    "        self._count = self._count + val\n",
    "        \n",
    "    def __repr__(self):\n",
    "        return f\"{self._count}\""
   ]
  },
  {
   "cell_type": "code",
   "execution_count": 133,
   "metadata": {},
   "outputs": [],
   "source": [
    "def quick_sort(A, l, r, pivot_mode=\"first\", counter=None):\n",
    "    #counter.update(max(r - l -1, 0))\n",
    "    #counter.update(len(A) - 1)\n",
    "    counter.update(1)\n",
    "    print(f\"{A}| left {l}| right {r}| counter {counter}\")\n",
    "    if l >= r:\n",
    "        print(\"returning\")\n",
    "        return \n",
    "    i = choose_pivot(A, l, r, mode=pivot_mode)\n",
    "    print(f\"| pivot {i}\")\n",
    "    A[l], A[i] = A[i], A[l]\n",
    "    print(A)\n",
    "    j = partition(A, l, r)\n",
    "    print(f\"{A}| pivot_index {j}\")\n",
    "    quick_sort(arr, l, j - 1, pivot_mode=pivot_mode, counter=counter)\n",
    "    quick_sort(arr, j + 1, r, pivot_mode=pivot_mode, counter=counter)"
   ]
  },
  {
   "cell_type": "code",
   "execution_count": 145,
   "metadata": {
    "scrolled": false
   },
   "outputs": [
    {
     "name": "stdout",
     "output_type": "stream",
     "text": [
      "Orginal array [3, 2, 1, 4, 5]\n",
      "###############################################################\n",
      "[3, 2, 1, 4, 5]| left 0| right 4| counter 0\n",
      "| pivot 0\n",
      "[3, 2, 1, 4, 5]\n",
      "[1, 2, 3, 4, 5]| pivot_index 2\n",
      "[1, 2, 3, 4, 5]| left 0| right 1| counter 1\n",
      "| pivot 0\n",
      "[1, 2, 3, 4, 5]\n",
      "[1, 2, 3, 4, 5]| pivot_index 0\n",
      "[1, 2, 3, 4, 5]| left 0| right -1| counter 2\n",
      "returning\n",
      "[1, 2, 3, 4, 5]| left 1| right 1| counter 3\n",
      "returning\n",
      "[1, 2, 3, 4, 5]| left 3| right 4| counter 4\n",
      "| pivot 3\n",
      "[1, 2, 3, 4, 5]\n",
      "[1, 2, 3, 4, 5]| pivot_index 3\n",
      "[1, 2, 3, 4, 5]| left 3| right 2| counter 5\n",
      "returning\n",
      "[1, 2, 3, 4, 5]| left 4| right 4| counter 6\n",
      "returning\n",
      "first --> counter: 6\n",
      "###############################################################\n",
      "[3, 2, 1, 4, 5]| left 0| right 4| counter 0\n",
      "| pivot 4\n",
      "[5, 2, 1, 4, 3]\n",
      "[3, 2, 1, 4, 5]| pivot_index 4\n",
      "[3, 2, 1, 4, 5]| left 0| right 3| counter 1\n",
      "| pivot 3\n",
      "[4, 2, 1, 3, 5]\n",
      "[3, 2, 1, 4, 5]| pivot_index 3\n",
      "[3, 2, 1, 4, 5]| left 0| right 2| counter 2\n",
      "| pivot 2\n",
      "[1, 2, 3, 4, 5]\n",
      "[1, 2, 3, 4, 5]| pivot_index 0\n",
      "[1, 2, 3, 4, 5]| left 0| right -1| counter 3\n",
      "returning\n",
      "[1, 2, 3, 4, 5]| left 1| right 2| counter 4\n",
      "| pivot 2\n",
      "[1, 3, 2, 4, 5]\n",
      "[1, 2, 3, 4, 5]| pivot_index 2\n",
      "[1, 2, 3, 4, 5]| left 1| right 1| counter 5\n",
      "returning\n",
      "[1, 2, 3, 4, 5]| left 3| right 2| counter 6\n",
      "returning\n",
      "[1, 2, 3, 4, 5]| left 4| right 3| counter 7\n",
      "returning\n",
      "[1, 2, 3, 4, 5]| left 5| right 4| counter 8\n",
      "returning\n",
      "last --> counter: 8\n",
      "###############################################################\n",
      "[3, 2, 1, 4, 5]| left 0| right 4| counter 0\n",
      "| pivot 0\n",
      "[3, 2, 1, 4, 5]\n",
      "[1, 2, 3, 4, 5]| pivot_index 2\n",
      "[1, 2, 3, 4, 5]| left 0| right 1| counter 1\n",
      "| pivot 1\n",
      "[2, 1, 3, 4, 5]\n",
      "[1, 2, 3, 4, 5]| pivot_index 1\n",
      "[1, 2, 3, 4, 5]| left 0| right 0| counter 2\n",
      "returning\n",
      "[1, 2, 3, 4, 5]| left 2| right 1| counter 3\n",
      "returning\n",
      "[1, 2, 3, 4, 5]| left 3| right 4| counter 4\n",
      "| pivot 3\n",
      "[1, 2, 3, 4, 5]\n",
      "[1, 2, 3, 4, 5]| pivot_index 3\n",
      "[1, 2, 3, 4, 5]| left 3| right 2| counter 5\n",
      "returning\n",
      "[1, 2, 3, 4, 5]| left 4| right 4| counter 6\n",
      "returning\n",
      "median-of-three --> counter: 6\n",
      "###############################################################\n"
     ]
    }
   ],
   "source": [
    "print(\"Orginal array\", array,)\n",
    "print(\"#########\"*7)\n",
    "for mode in [\"first\", \"last\", \"median-of-three\"]:\n",
    "    left = 0\n",
    "    right = len(array) - 1\n",
    "    counter = Counter(-1)\n",
    "    arr = array[:]\n",
    "    quick_sort(arr, left, right, pivot_mode=mode, counter=counter)\n",
    "    assert arr == sorted(array)\n",
    "    print(f\"{mode} --> counter: {counter}\")\n",
    "    print(\"#########\"*7)"
   ]
  },
  {
   "cell_type": "code",
   "execution_count": 146,
   "metadata": {},
   "outputs": [
    {
     "data": {
      "text/plain": [
       "[6, 10, 6]"
      ]
     },
     "execution_count": 146,
     "metadata": {},
     "output_type": "execute_result"
    }
   ],
   "source": [
    "output_filepath = data_dir + \"/output_\" + fname\n",
    "read_list_of_numbers(output_filepath)"
   ]
  },
  {
   "cell_type": "code",
   "execution_count": null,
   "metadata": {},
   "outputs": [],
   "source": []
  },
  {
   "cell_type": "code",
   "execution_count": 95,
   "metadata": {},
   "outputs": [
    {
     "data": {
      "text/plain": [
       "5"
      ]
     },
     "execution_count": 95,
     "metadata": {},
     "output_type": "execute_result"
    }
   ],
   "source": [
    "len(array)"
   ]
  },
  {
   "cell_type": "code",
   "execution_count": 29,
   "metadata": {},
   "outputs": [
    {
     "data": {
      "text/plain": [
       "Count: 133456653"
      ]
     },
     "execution_count": 29,
     "metadata": {},
     "output_type": "execute_result"
    }
   ],
   "source": [
    "counter"
   ]
  },
  {
   "cell_type": "code",
   "execution_count": 36,
   "metadata": {},
   "outputs": [
    {
     "data": {
      "text/plain": [
       "133456653"
      ]
     },
     "execution_count": 36,
     "metadata": {},
     "output_type": "execute_result"
    }
   ],
   "source": [
    "13347 * 9999"
   ]
  },
  {
   "cell_type": "code",
   "execution_count": null,
   "metadata": {},
   "outputs": [],
   "source": []
  }
 ],
 "metadata": {
  "kernelspec": {
   "display_name": "Python 3",
   "language": "python",
   "name": "python3"
  },
  "language_info": {
   "codemirror_mode": {
    "name": "ipython",
    "version": 3
   },
   "file_extension": ".py",
   "mimetype": "text/x-python",
   "name": "python",
   "nbconvert_exporter": "python",
   "pygments_lexer": "ipython3",
   "version": "3.7.4"
  }
 },
 "nbformat": 4,
 "nbformat_minor": 2
}
